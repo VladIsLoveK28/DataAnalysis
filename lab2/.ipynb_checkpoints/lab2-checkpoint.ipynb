{
 "cells": [
  {
   "cell_type": "markdown",
   "id": "61a82d02-eb9f-4937-bf1d-9d1d3d826fd3",
   "metadata": {},
   "source": [
    "Для кожної із адміністративних одиниць України завантажити тестові структуровані файли, що містять значення VHI-індексу. Ця процедура має бути \n",
    "автоматизована, параметром процедури має бути індекс (номер) області. При зберіганні файлу до його імені потрібно додати дату та час завантаження;"
   ]
  },
  {
   "cell_type": "code",
   "execution_count": null,
   "id": "714150c6-6c35-430a-8611-67d40d69bd4d",
   "metadata": {},
   "outputs": [],
   "source": [
    "import urllib.request\n",
    "import datetime\n",
    "import os\n",
    "\n",
    "def download():\n",
    "    folder_path = 'C:\\\\Users\\\\vladi\\\\PycharmProjects\\\\DataAnalysis\\\\lab2\\\\csv_files'\n",
    "    print('Downloading VHI files...')\n",
    "    for i in range(1,28):\n",
    "        url='https://www.star.nesdis.noaa.gov/smcd/emb/vci/VH/get_TS_admin.php?country=UKR&provinceID={}&year1=1981&year2=2020&type=Mean'.format(i)\n",
    "        wp = urllib.request.urlopen(url)\n",
    "        text = wp.read()\n",
    "        now = datetime.datetime.now()\n",
    "        date_and_time = now.strftime(\"%d_%m_%Y_%H-%M-%S\")\n",
    "        province_n = i\n",
    "        file_path = os.path.join(folder_path, 'NOAA_ID{}_{}.csv'.format(province_n, date_and_time))\n",
    "        with open(file_path, 'wb') as out:\n",
    "            out.write(text)\n",
    "    print('\\nVHI files are downloaded!')\n",
    "download()"
   ]
  },
  {
   "attachments": {
    "a0b9c5c4-b394-43e0-ac6b-38a35c84a4b2.png": {
     "image/png": "[encoded data removed]"
    }
   },
   "cell_type": "markdown",
   "id": "eae8f3e8-cc44-4daa-8d9e-f5dde8364129",
   "metadata": {},
   "source": [
    "Результат:\n",
    "![image.png](attachment:a0b9c5c4-b394-43e0-ac6b-38a35c84a4b2.png)"
   ]
  },
  {
   "cell_type": "markdown",
   "id": "d776e70f-8f3b-4089-9fad-b1f2627ca991",
   "metadata": {},
   "source": [
    "Зчитати завантажені текстові файли у фрейм (детальніше про роботу із фреймами буде розказано у подальших лабораторних роботах). Імена стовбців фрейму мають бути змістовними та легкими для сприйняття (не повинно бути спеціалізованих символів, пробілів тощо). Ця задача має бути реалізована у вигляді окремої процедури, яка на вхід приймає шлях до директорії, в якій зберігаються файли;"
   ]
  },
  {
   "cell_type": "code",
   "execution_count": null,
   "id": "c9938280-93c7-44f0-97a1-a30b83ffe638",
   "metadata": {},
   "outputs": [],
   "source": [
    "import os\n",
    "import pandas as pd\n",
    "\n",
    "directory = 'C:\\\\Users\\\\vladi\\\\PycharmProjects\\\\DataAnalysis\\\\lab2\\\\csv_files'\n",
    "\n",
    "def extract(directory):\n",
    "    files = os.listdir(directory)\n",
    "    headers = ['Year', 'Week', 'SMN', 'SMT', 'VCI', 'TCI', 'VHI', 'empty']\n",
    "    main_df = pd.DataFrame()\n",
    "    for i in range(len(files)):\n",
    "        file_path = os.path.join(directory, files[i])\n",
    "        df = pd.read_csv(file_path, header = 1, names = headers)\n",
    "        df = df.drop(df.loc[df['VHI'] == -1].index)\n",
    "        df['empty'] = df['empty'].apply(lambda x: 0 if pd.isnull(x) else x)\n",
    "\n",
    "        df['area'] = i+1\n",
    "\n",
    "        df['Year'] = df['Year'].str.replace('<tt><pre>', '')\n",
    "        df = df.drop(df[df['Year'] == '</pre></tt>'].index)\n",
    "        df['Year'] = df['Year'].astype(int)\n",
    "\n",
    "        main_df = pd.concat([main_df, df])\n",
    "    return main_df"
   ]
  },
  {
   "cell_type": "markdown",
   "id": "4b985cb0-5218-49d9-8dc5-83148b93645a",
   "metadata": {},
   "source": [
    "Результат:\n"
   ]
  },
  {
   "cell_type": "markdown",
   "id": "bd11e160-ac8f-49f4-807b-499bed19cbdb",
   "metadata": {},
   "source": [
    "Реалізувати процедуру, яка змінить індекси областей, які використані на порталі NOAA на наступні:"
   ]
  },
  {
   "cell_type": "code",
   "execution_count": null,
   "id": "8884f3f8-b32b-4f51-ac87-60ef4a337489",
   "metadata": {},
   "outputs": [],
   "source": [
    "def change_index(df):\n",
    "    new_index = {\n",
    "        1: 22,\n",
    "        2: 24,\n",
    "        3: 23,\n",
    "        4: 25,\n",
    "        5: 3,\n",
    "        6: 4,\n",
    "        7: 8,\n",
    "        8: 19,\n",
    "        9: 20,\n",
    "        10: 21,\n",
    "        11: 9,\n",
    "        12: 9,\n",
    "        13: 10,\n",
    "        14: 11,\n",
    "        15: 12,\n",
    "        16: 13,\n",
    "        17: 14,\n",
    "        18: 15,\n",
    "        19: 16,\n",
    "        20: 25,\n",
    "        21: 17,\n",
    "        22: 18,\n",
    "        23: 6,\n",
    "        24: 1,\n",
    "        25: 2,\n",
    "        26: 7,\n",
    "        27: 5\n",
    "    }\n",
    "    df['area'] = df['area'].map(new_index)\n",
    "    return df"
   ]
  }
 ],
 "metadata": {
  "kernelspec": {
   "display_name": "Python 3 (ipykernel)",
   "language": "python",
   "name": "python3"
  },
  "language_info": {
   "codemirror_mode": {
    "name": "ipython",
    "version": 3
   },
   "file_extension": ".py",
   "mimetype": "text/x-python",
   "name": "python",
   "nbconvert_exporter": "python",
   "pygments_lexer": "ipython3",
   "version": "3.12.2"
  }
 },
 "nbformat": 4,
 "nbformat_minor": 5
}
